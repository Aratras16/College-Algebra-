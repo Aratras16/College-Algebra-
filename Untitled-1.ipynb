{
 "cells": [
  {
   "cell_type": "markdown",
   "metadata": {},
   "source": [
    "# Proportions/ Ratios"
   ]
  },
  {
   "cell_type": "markdown",
   "metadata": {},
   "source": [
    "Set up a proportion. $$\\frac{n_1}{d_1} = \\frac{n_2}{d_2}$$"
   ]
  },
  {
   "cell_type": "code",
   "execution_count": 5,
   "metadata": {},
   "outputs": [
    {
     "name": "stdout",
     "output_type": "stream",
     "text": [
      "n2 =  2.5\n"
     ]
    }
   ],
   "source": [
    "# Put a zero in for the unknown value\n",
    "n1 = 5\n",
    "d1 = 2\n",
    "n2 = 0\n",
    "d2 = 1\n",
    "if n2 == 0:\n",
    "    answer = d2*n1 / d1\n",
    "    print(\"n2 = \",answer)\n",
    "if d2 == 0:\n",
    "    answer = n2*d1/n1\n",
    "    print(\"d2 = \",answer)"
   ]
  }
 ],
 "metadata": {
  "kernelspec": {
   "display_name": "Python 3",
   "language": "python",
   "name": "python3"
  },
  "language_info": {
   "codemirror_mode": {
    "name": "ipython",
    "version": 3
   },
   "file_extension": ".py",
   "mimetype": "text/x-python",
   "name": "python",
   "nbconvert_exporter": "python",
   "pygments_lexer": "ipython3",
   "version": "3.10.4"
  }
 },
 "nbformat": 4,
 "nbformat_minor": 2
}
